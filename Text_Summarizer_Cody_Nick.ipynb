{
 "cells": [
  {
   "cell_type": "code",
   "execution_count": 1,
   "metadata": {},
   "outputs": [
    {
     "name": "stderr",
     "output_type": "stream",
     "text": [
      "[nltk_data] Downloading package punkt to /Users/morgnic/nltk_data...\n",
      "[nltk_data]   Package punkt is already up-to-date!\n"
     ]
    }
   ],
   "source": [
    "import nltk\n",
    "nltk.download('punkt') # one time execution\n",
    "from nltk.corpus import stopwords\n",
    "from nltk.cluster.util import cosine_distance\n",
    "from nltk.tokenize import sent_tokenize\n",
    "from nltk.tokenize import RegexpTokenizer\n",
    "\n",
    "from scipy.spatial.distance import cosine as cosine_diference\n",
    "\n",
    "from sklearn.feature_extraction.text import CountVectorizer\n",
    "from sklearn.metrics.pairwise import cosine_similarity\n",
    "\n",
    "import re\n",
    "import numpy as np\n",
    "import pandas as pd\n",
    "import networkx as nx"
   ]
  },
  {
   "cell_type": "code",
   "execution_count": 2,
   "metadata": {},
   "outputs": [],
   "source": [
    "class TextSummarizer():\n",
    "    def __init__(self, article):\n",
    "        def generate_clean_sentences():\n",
    "            \"\"\"\n",
    "            Purpose:\n",
    "                1) Use nltk.sent_tokenize to split article into sentences\n",
    "                2) Remove punctuation with nltk.RegExpTokenizer\n",
    "                3) Remove sentences with less than 3 words\n",
    "            \"\"\"\n",
    "            self.sentences = pd.Series(sent_tokenize(self.article))\n",
    "            #not to remove numbers, nor periods & percentage signs, otherwise 1.5C would become 15c and 1% chance becomes 1 chance        \n",
    "            tokenizer = RegexpTokenizer(r'\\w+')\n",
    "            clean_sentences = self.sentences.apply(\n",
    "                lambda x: ' '.join(tokenizer.tokenize(x)))\n",
    "            \n",
    "            # remove short sentences\n",
    "            msk = clean_sentences.str.len() >= 3\n",
    "            self.clean_sentences = clean_sentences[msk]\n",
    "            \n",
    "        def rank_sentences():\n",
    "            \"\"\"\n",
    "            Purpose:\n",
    "                1) Use cosine similarity to rank sentence similarity\n",
    "                2) Use PageRank algorithm via networkx to rank most important sentences\n",
    "            \"\"\"\n",
    "            cv = CountVectorizer(stop_words='english')\n",
    "            sentenceVectors = cv.fit_transform(self.clean_sentences)\n",
    "\n",
    "            self.similarityMatrix = cosine_similarity(sentenceVectors,sentenceVectors)\n",
    "\n",
    "            nx_graph = nx.from_numpy_array(self.similarityMatrix)\n",
    "            scoreDict = nx.pagerank(nx_graph)\n",
    "            self.scores = np.array(list(scoreDict.values()))\n",
    "            \n",
    "        \n",
    "        self.article = article\n",
    "        generate_clean_sentences()\n",
    "        rank_sentences()\n",
    "        \n",
    "    def return_top_sentences(self, n):\n",
    "        \"\"\"\n",
    "        Returns the top n sentences according to PageRank score on cosine similarity matrix\n",
    "        \"\"\"\n",
    "        idx = self.scores.argsort()[:n]\n",
    "        return [self.sentences[i] for i in idx]\n",
    "\n",
    "        "
   ]
  },
  {
   "cell_type": "code",
   "execution_count": 3,
   "metadata": {},
   "outputs": [],
   "source": [
    "def summarize_article(article, headline, n_sentences):\n",
    "    ts = TextSummarizer(article)\n",
    "    top = ts.return_top_sentences(n_sentences)\n",
    "    print(headline,'\\n')\n",
    "    for sentence in top:\n",
    "        print('\\n\\n\\t', sentence)"
   ]
  },
  {
   "cell_type": "code",
   "execution_count": null,
   "metadata": {},
   "outputs": [],
   "source": []
  },
  {
   "cell_type": "code",
   "execution_count": 4,
   "metadata": {},
   "outputs": [],
   "source": [
    "df = pd.read_csv('data/articles1.csv', encoding='utf-8')"
   ]
  },
  {
   "cell_type": "code",
   "execution_count": 5,
   "metadata": {},
   "outputs": [
    {
     "data": {
      "text/html": [
       "<div>\n",
       "<style scoped>\n",
       "    .dataframe tbody tr th:only-of-type {\n",
       "        vertical-align: middle;\n",
       "    }\n",
       "\n",
       "    .dataframe tbody tr th {\n",
       "        vertical-align: top;\n",
       "    }\n",
       "\n",
       "    .dataframe thead th {\n",
       "        text-align: right;\n",
       "    }\n",
       "</style>\n",
       "<table border=\"1\" class=\"dataframe\">\n",
       "  <thead>\n",
       "    <tr style=\"text-align: right;\">\n",
       "      <th></th>\n",
       "      <th>Unnamed: 0</th>\n",
       "      <th>id</th>\n",
       "      <th>title</th>\n",
       "      <th>publication</th>\n",
       "      <th>author</th>\n",
       "      <th>date</th>\n",
       "      <th>year</th>\n",
       "      <th>month</th>\n",
       "      <th>url</th>\n",
       "      <th>content</th>\n",
       "    </tr>\n",
       "  </thead>\n",
       "  <tbody>\n",
       "    <tr>\n",
       "      <td>0</td>\n",
       "      <td>0</td>\n",
       "      <td>17283</td>\n",
       "      <td>House Republicans Fret About Winning Their Hea...</td>\n",
       "      <td>New York Times</td>\n",
       "      <td>Carl Hulse</td>\n",
       "      <td>2016-12-31</td>\n",
       "      <td>2016.0</td>\n",
       "      <td>12.0</td>\n",
       "      <td>NaN</td>\n",
       "      <td>WASHINGTON  —   Congressional Republicans have...</td>\n",
       "    </tr>\n",
       "    <tr>\n",
       "      <td>1</td>\n",
       "      <td>1</td>\n",
       "      <td>17284</td>\n",
       "      <td>Rift Between Officers and Residents as Killing...</td>\n",
       "      <td>New York Times</td>\n",
       "      <td>Benjamin Mueller and Al Baker</td>\n",
       "      <td>2017-06-19</td>\n",
       "      <td>2017.0</td>\n",
       "      <td>6.0</td>\n",
       "      <td>NaN</td>\n",
       "      <td>After the bullet shells get counted, the blood...</td>\n",
       "    </tr>\n",
       "    <tr>\n",
       "      <td>2</td>\n",
       "      <td>2</td>\n",
       "      <td>17285</td>\n",
       "      <td>Tyrus Wong, ‘Bambi’ Artist Thwarted by Racial ...</td>\n",
       "      <td>New York Times</td>\n",
       "      <td>Margalit Fox</td>\n",
       "      <td>2017-01-06</td>\n",
       "      <td>2017.0</td>\n",
       "      <td>1.0</td>\n",
       "      <td>NaN</td>\n",
       "      <td>When Walt Disney’s “Bambi” opened in 1942, cri...</td>\n",
       "    </tr>\n",
       "    <tr>\n",
       "      <td>3</td>\n",
       "      <td>3</td>\n",
       "      <td>17286</td>\n",
       "      <td>Among Deaths in 2016, a Heavy Toll in Pop Musi...</td>\n",
       "      <td>New York Times</td>\n",
       "      <td>William McDonald</td>\n",
       "      <td>2017-04-10</td>\n",
       "      <td>2017.0</td>\n",
       "      <td>4.0</td>\n",
       "      <td>NaN</td>\n",
       "      <td>Death may be the great equalizer, but it isn’t...</td>\n",
       "    </tr>\n",
       "    <tr>\n",
       "      <td>4</td>\n",
       "      <td>4</td>\n",
       "      <td>17287</td>\n",
       "      <td>Kim Jong-un Says North Korea Is Preparing to T...</td>\n",
       "      <td>New York Times</td>\n",
       "      <td>Choe Sang-Hun</td>\n",
       "      <td>2017-01-02</td>\n",
       "      <td>2017.0</td>\n",
       "      <td>1.0</td>\n",
       "      <td>NaN</td>\n",
       "      <td>SEOUL, South Korea  —   North Korea’s leader, ...</td>\n",
       "    </tr>\n",
       "  </tbody>\n",
       "</table>\n",
       "</div>"
      ],
      "text/plain": [
       "   Unnamed: 0     id                                              title  \\\n",
       "0           0  17283  House Republicans Fret About Winning Their Hea...   \n",
       "1           1  17284  Rift Between Officers and Residents as Killing...   \n",
       "2           2  17285  Tyrus Wong, ‘Bambi’ Artist Thwarted by Racial ...   \n",
       "3           3  17286  Among Deaths in 2016, a Heavy Toll in Pop Musi...   \n",
       "4           4  17287  Kim Jong-un Says North Korea Is Preparing to T...   \n",
       "\n",
       "      publication                         author        date    year  month  \\\n",
       "0  New York Times                     Carl Hulse  2016-12-31  2016.0   12.0   \n",
       "1  New York Times  Benjamin Mueller and Al Baker  2017-06-19  2017.0    6.0   \n",
       "2  New York Times                   Margalit Fox  2017-01-06  2017.0    1.0   \n",
       "3  New York Times               William McDonald  2017-04-10  2017.0    4.0   \n",
       "4  New York Times                  Choe Sang-Hun  2017-01-02  2017.0    1.0   \n",
       "\n",
       "   url                                            content  \n",
       "0  NaN  WASHINGTON  —   Congressional Republicans have...  \n",
       "1  NaN  After the bullet shells get counted, the blood...  \n",
       "2  NaN  When Walt Disney’s “Bambi” opened in 1942, cri...  \n",
       "3  NaN  Death may be the great equalizer, but it isn’t...  \n",
       "4  NaN  SEOUL, South Korea  —   North Korea’s leader, ...  "
      ]
     },
     "execution_count": 5,
     "metadata": {},
     "output_type": "execute_result"
    }
   ],
   "source": [
    "df.head()"
   ]
  },
  {
   "cell_type": "code",
   "execution_count": 6,
   "metadata": {},
   "outputs": [
    {
     "name": "stdout",
     "output_type": "stream",
     "text": [
      "House Republicans Fret About Winning Their Health Care Suit - The New York Times \n",
      "\n",
      "\n",
      "\n",
      "\t Insurers that receive the subsidies in exchange for paying    costs such as deductibles and   for eligible consumers could race to drop coverage since they would be losing money.\n",
      "\n",
      "\n",
      "\t The Justice Department, confident that Judge Collyer’s decision would be reversed, quickly appealed, and the subsidies have remained in place during the appeal.\n",
      "\n",
      "\n",
      "\t ” Republican leadership officials in the House acknowledge the possibility of “cascading effects” if the   payments, which have totaled an estimated $13 billion, are suddenly stopped.\n"
     ]
    }
   ],
   "source": [
    "idx = 0\n",
    "article = df.loc[idx, 'content']\n",
    "headline = df.loc[idx, 'title']\n",
    "\n",
    "\n",
    "summarize_article(article, headline, 3)"
   ]
  },
  {
   "cell_type": "code",
   "execution_count": 7,
   "metadata": {},
   "outputs": [
    {
     "name": "stdout",
     "output_type": "stream",
     "text": [
      "Sick With a Cold, Queen Elizabeth Misses New Year’s Service - The New York Times \n",
      "\n",
      "\n",
      "\n",
      "\t The queen, who ascended to the throne in 1952, became the world’s   monarch following the death of King Bhumibol Adulyadej of Thailand in October.\n",
      "\n",
      "\n",
      "\t She is also Britain’s   monarch, having last year surpassed Queen Victoria’s   reign.\n",
      "\n",
      "\n",
      "\t The queen’s husband, Prince Philip, who had also been ill, was well enough to attend both services, in the church at Sandringham, which is in Norfolk, on the east coast of England.\n"
     ]
    }
   ],
   "source": [
    "idx = 5\n",
    "\n",
    "article = df.loc[idx, 'content']\n",
    "headline = df.loc[idx, 'title']\n",
    "\n",
    "\n",
    "summarize_article(article, headline, 3)"
   ]
  },
  {
   "cell_type": "code",
   "execution_count": 8,
   "metadata": {},
   "outputs": [
    {
     "name": "stdout",
     "output_type": "stream",
     "text": [
      "Enough With the Tweets, China’s State Media Tells Trump - The New York Times \n",
      "\n",
      "\n",
      "\n",
      "\t And while Chinese politicians love slogans, they prefer to communicate with foreign leaders through long, tranquilizing disquisitions.\n",
      "\n",
      "\n",
      "\t Open sarcasm is rare.\n",
      "\n",
      "\n",
      "\t The service has been banned in China since 2009, though residents find ways to poke through the firewall of censorship.\n"
     ]
    }
   ],
   "source": [
    "idx = 77\n",
    "\n",
    "article = df.loc[idx, 'content']\n",
    "headline = df.loc[idx, 'title']\n",
    "\n",
    "\n",
    "summarize_article(article, headline, 3)"
   ]
  },
  {
   "cell_type": "code",
   "execution_count": 9,
   "metadata": {},
   "outputs": [
    {
     "name": "stdout",
     "output_type": "stream",
     "text": [
      "L.I.R.R. Train That Crashed Was Going Over Twice Speed Limit, Inquiry Finds - The New York Times \n",
      "\n",
      "\n",
      "\n",
      "\t Officials at the authority are working to meet a 2018 deadline to install the technology.\n",
      "\n",
      "\n",
      "\t The train rammed into a bumping block during the morning rush, striking a room beyond the track and causing the first two cars to derail.\n",
      "\n",
      "\n",
      "\t They also intend to interview two railroad employees who witnessed the crash.\n"
     ]
    }
   ],
   "source": [
    "idx = 97\n",
    "\n",
    "article = df.loc[idx, 'content']\n",
    "headline = df.loc[idx, 'title']\n",
    "\n",
    "\n",
    "summarize_article(article, headline, 3)"
   ]
  },
  {
   "cell_type": "code",
   "execution_count": 10,
   "metadata": {},
   "outputs": [
    {
     "name": "stdout",
     "output_type": "stream",
     "text": [
      "Death of Iran’s Rafsanjani Removes Influential Voice Against Hard-Liners - The New York Times \n",
      "\n",
      "\n",
      "\n",
      "\t “Many worked with him because of that support.\n",
      "\n",
      "\n",
      "\t Who would now warn publicly against “Islamic fascism,” when the   sought to influence elections?\n",
      "\n",
      "\n",
      "\t His death also reflects the dwindling number of leaders from the generation that overthrew the shah nearly four decades ago.\n"
     ]
    }
   ],
   "source": [
    "idx = 170\n",
    "\n",
    "article = df.loc[idx, 'content']\n",
    "headline = df.loc[idx, 'title']\n",
    "\n",
    "\n",
    "summarize_article(article, headline, 3)"
   ]
  }
 ],
 "metadata": {
  "kernelspec": {
   "display_name": "Python 3",
   "language": "python",
   "name": "python3"
  },
  "language_info": {
   "codemirror_mode": {
    "name": "ipython",
    "version": 3
   },
   "file_extension": ".py",
   "mimetype": "text/x-python",
   "name": "python",
   "nbconvert_exporter": "python",
   "pygments_lexer": "ipython3",
   "version": "3.6.9"
  }
 },
 "nbformat": 4,
 "nbformat_minor": 2
}
